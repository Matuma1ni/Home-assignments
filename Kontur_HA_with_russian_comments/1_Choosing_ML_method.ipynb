{
 "cells": [
  {
   "cell_type": "markdown",
   "id": "8220ae54",
   "metadata": {
    "papermill": {
     "duration": 0.050952,
     "end_time": "2022-04-24T17:39:59.174251",
     "exception": false,
     "start_time": "2022-04-24T17:39:59.123299",
     "status": "completed"
    },
    "tags": []
   },
   "source": [
    "Для решения задачи использовались такие приёмы NLP, как лемматизация, очистка от стоп-слов и токенизация\n",
    "\n",
    "Для преобразования заголовков в векторы применялся Doc2Vec. Этот метод удобен тем, что все векторы всех текстов имеют одинаковую размерность. \n",
    "\n",
    "Для построения моделей и прогнозирования перебирались различные методы (KNN, SVC, Decision Tree, Random Forest, AdaBoost, Gradient Boosting). Результаты предсказания на тестовой выборке, полученные этими моделями, оценивались критерием RMSE"
   ]
  },
  {
   "cell_type": "code",
   "execution_count": 1,
   "id": "54f60e4d",
   "metadata": {
    "_cell_guid": "b1076dfc-b9ad-4769-8c92-a6c4dae69d19",
    "_uuid": "8f2839f25d086af736a60e9eeb907d3b93b6e0e5",
    "execution": {
     "iopub.execute_input": "2022-04-24T17:39:59.280217Z",
     "iopub.status.busy": "2022-04-24T17:39:59.278972Z",
     "iopub.status.idle": "2022-04-24T17:39:59.296726Z",
     "shell.execute_reply": "2022-04-24T17:39:59.297720Z",
     "shell.execute_reply.started": "2022-04-24T06:25:59.419016Z"
    },
    "papermill": {
     "duration": 0.073708,
     "end_time": "2022-04-24T17:39:59.298086",
     "exception": false,
     "start_time": "2022-04-24T17:39:59.224378",
     "status": "completed"
    },
    "tags": []
   },
   "outputs": [
    {
     "name": "stdout",
     "output_type": "stream",
     "text": [
      "/kaggle/input/kontur-home-assignment/test.tsv\n",
      "/kaggle/input/kontur-home-assignment/train.tsv\n"
     ]
    }
   ],
   "source": [
    "import os\n",
    "for dirname, _, filenames in os.walk('/kaggle/input'):\n",
    "    for filename in filenames:\n",
    "        print(os.path.join(dirname, filename))\n",
    "        \n",
    "import numpy as np \n",
    "import pandas as pd"
   ]
  },
  {
   "cell_type": "code",
   "execution_count": 2,
   "id": "3e116569",
   "metadata": {
    "execution": {
     "iopub.execute_input": "2022-04-24T17:39:59.403196Z",
     "iopub.status.busy": "2022-04-24T17:39:59.402493Z",
     "iopub.status.idle": "2022-04-24T17:40:14.679881Z",
     "shell.execute_reply": "2022-04-24T17:40:14.678663Z",
     "shell.execute_reply.started": "2022-04-24T06:25:59.433567Z"
    },
    "papermill": {
     "duration": 15.330739,
     "end_time": "2022-04-24T17:40:14.680086",
     "exception": false,
     "start_time": "2022-04-24T17:39:59.349347",
     "status": "completed"
    },
    "tags": []
   },
   "outputs": [
    {
     "name": "stdout",
     "output_type": "stream",
     "text": [
      "Collecting pymorphy2\r\n",
      "  Downloading pymorphy2-0.9.1-py3-none-any.whl (55 kB)\r\n",
      "     |████████████████████████████████| 55 kB 236 kB/s            \r\n",
      "\u001b[?25hRequirement already satisfied: docopt>=0.6 in /opt/conda/lib/python3.7/site-packages (from pymorphy2) (0.6.2)\r\n",
      "Collecting pymorphy2-dicts-ru<3.0,>=2.4\r\n",
      "  Downloading pymorphy2_dicts_ru-2.4.417127.4579844-py2.py3-none-any.whl (8.2 MB)\r\n",
      "     |████████████████████████████████| 8.2 MB 19.3 MB/s            \r\n",
      "\u001b[?25hCollecting dawg-python>=0.7.1\r\n",
      "  Downloading DAWG_Python-0.7.2-py2.py3-none-any.whl (11 kB)\r\n",
      "Installing collected packages: pymorphy2-dicts-ru, dawg-python, pymorphy2\r\n",
      "Successfully installed dawg-python-0.7.2 pymorphy2-0.9.1 pymorphy2-dicts-ru-2.4.417127.4579844\r\n",
      "\u001b[33mWARNING: Running pip as the 'root' user can result in broken permissions and conflicting behaviour with the system package manager. It is recommended to use a virtual environment instead: https://pip.pypa.io/warnings/venv\u001b[0m\r\n",
      "Note: you may need to restart the kernel to use updated packages.\n"
     ]
    }
   ],
   "source": [
    "pip install pymorphy2"
   ]
  },
  {
   "cell_type": "code",
   "execution_count": 3,
   "id": "fab301a7",
   "metadata": {
    "execution": {
     "iopub.execute_input": "2022-04-24T17:40:14.822138Z",
     "iopub.status.busy": "2022-04-24T17:40:14.817196Z",
     "iopub.status.idle": "2022-04-24T17:40:24.215756Z",
     "shell.execute_reply": "2022-04-24T17:40:24.215088Z",
     "shell.execute_reply.started": "2022-04-24T06:26:11.070339Z"
    },
    "papermill": {
     "duration": 9.470036,
     "end_time": "2022-04-24T17:40:24.215973",
     "exception": false,
     "start_time": "2022-04-24T17:40:14.745937",
     "status": "completed"
    },
    "tags": []
   },
   "outputs": [
    {
     "name": "stdout",
     "output_type": "stream",
     "text": [
      "Requirement already satisfied: pymorphy2-dicts-ru in /opt/conda/lib/python3.7/site-packages (2.4.417127.4579844)\r\n",
      "\u001b[33mWARNING: Running pip as the 'root' user can result in broken permissions and conflicting behaviour with the system package manager. It is recommended to use a virtual environment instead: https://pip.pypa.io/warnings/venv\u001b[0m\r\n",
      "Note: you may need to restart the kernel to use updated packages.\n"
     ]
    }
   ],
   "source": [
    "pip install pymorphy2-dicts-ru"
   ]
  },
  {
   "cell_type": "code",
   "execution_count": 4,
   "id": "d99acd78",
   "metadata": {
    "execution": {
     "iopub.execute_input": "2022-04-24T17:40:24.355136Z",
     "iopub.status.busy": "2022-04-24T17:40:24.353974Z",
     "iopub.status.idle": "2022-04-24T17:40:51.682904Z",
     "shell.execute_reply": "2022-04-24T17:40:51.682138Z",
     "shell.execute_reply.started": "2022-04-24T06:26:39.450155Z"
    },
    "papermill": {
     "duration": 27.40078,
     "end_time": "2022-04-24T17:40:51.683062",
     "exception": false,
     "start_time": "2022-04-24T17:40:24.282282",
     "status": "completed"
    },
    "tags": []
   },
   "outputs": [
    {
     "name": "stdout",
     "output_type": "stream",
     "text": [
      "Collecting texthero\r\n",
      "  Downloading texthero-1.1.0-py3-none-any.whl (24 kB)\r\n",
      "Requirement already satisfied: tqdm>=4.3 in /opt/conda/lib/python3.7/site-packages (from texthero) (4.62.3)\r\n",
      "Requirement already satisfied: pandas>=1.0.2 in /opt/conda/lib/python3.7/site-packages (from texthero) (1.3.5)\r\n",
      "Requirement already satisfied: unidecode>=1.1.1 in /opt/conda/lib/python3.7/site-packages (from texthero) (1.3.2)\r\n",
      "Requirement already satisfied: matplotlib>=3.1.0 in /opt/conda/lib/python3.7/site-packages (from texthero) (3.5.1)\r\n",
      "Collecting gensim<4.0,>=3.6.0\r\n",
      "  Downloading gensim-3.8.3-cp37-cp37m-manylinux1_x86_64.whl (24.2 MB)\r\n",
      "     |████████████████████████████████| 24.2 MB 409 kB/s             \r\n",
      "\u001b[?25hRequirement already satisfied: plotly>=4.2.0 in /opt/conda/lib/python3.7/site-packages (from texthero) (5.6.0)\r\n",
      "Requirement already satisfied: wordcloud>=1.5.0 in /opt/conda/lib/python3.7/site-packages (from texthero) (1.8.1)\r\n",
      "Requirement already satisfied: scikit-learn>=0.22 in /opt/conda/lib/python3.7/site-packages (from texthero) (1.0.1)\r\n",
      "Collecting nltk>=3.3\r\n",
      "  Downloading nltk-3.7-py3-none-any.whl (1.5 MB)\r\n",
      "     |████████████████████████████████| 1.5 MB 62.7 MB/s            \r\n",
      "\u001b[?25hCollecting spacy<3.0.0\r\n",
      "  Downloading spacy-2.3.7-cp37-cp37m-manylinux_2_17_x86_64.manylinux2014_x86_64.whl (10.4 MB)\r\n",
      "     |████████████████████████████████| 10.4 MB 49.2 MB/s            \r\n",
      "\u001b[?25hRequirement already satisfied: numpy>=1.17 in /opt/conda/lib/python3.7/site-packages (from texthero) (1.20.3)\r\n",
      "Requirement already satisfied: smart-open>=1.8.1 in /opt/conda/lib/python3.7/site-packages (from gensim<4.0,>=3.6.0->texthero) (5.2.1)\r\n",
      "Requirement already satisfied: six>=1.5.0 in /opt/conda/lib/python3.7/site-packages (from gensim<4.0,>=3.6.0->texthero) (1.16.0)\r\n",
      "Requirement already satisfied: scipy>=0.18.1 in /opt/conda/lib/python3.7/site-packages (from gensim<4.0,>=3.6.0->texthero) (1.7.3)\r\n",
      "Requirement already satisfied: python-dateutil>=2.7 in /opt/conda/lib/python3.7/site-packages (from matplotlib>=3.1.0->texthero) (2.8.2)\r\n",
      "Requirement already satisfied: pyparsing>=2.2.1 in /opt/conda/lib/python3.7/site-packages (from matplotlib>=3.1.0->texthero) (3.0.6)\r\n",
      "Requirement already satisfied: fonttools>=4.22.0 in /opt/conda/lib/python3.7/site-packages (from matplotlib>=3.1.0->texthero) (4.28.4)\r\n",
      "Requirement already satisfied: kiwisolver>=1.0.1 in /opt/conda/lib/python3.7/site-packages (from matplotlib>=3.1.0->texthero) (1.3.2)\r\n",
      "Requirement already satisfied: cycler>=0.10 in /opt/conda/lib/python3.7/site-packages (from matplotlib>=3.1.0->texthero) (0.11.0)\r\n",
      "Requirement already satisfied: packaging>=20.0 in /opt/conda/lib/python3.7/site-packages (from matplotlib>=3.1.0->texthero) (21.3)\r\n",
      "Requirement already satisfied: pillow>=6.2.0 in /opt/conda/lib/python3.7/site-packages (from matplotlib>=3.1.0->texthero) (8.2.0)\r\n",
      "Requirement already satisfied: click in /opt/conda/lib/python3.7/site-packages (from nltk>=3.3->texthero) (8.0.3)\r\n",
      "Requirement already satisfied: regex>=2021.8.3 in /opt/conda/lib/python3.7/site-packages (from nltk>=3.3->texthero) (2021.11.10)\r\n",
      "Requirement already satisfied: joblib in /opt/conda/lib/python3.7/site-packages (from nltk>=3.3->texthero) (1.1.0)\r\n",
      "Requirement already satisfied: pytz>=2017.3 in /opt/conda/lib/python3.7/site-packages (from pandas>=1.0.2->texthero) (2021.3)\r\n",
      "Requirement already satisfied: tenacity>=6.2.0 in /opt/conda/lib/python3.7/site-packages (from plotly>=4.2.0->texthero) (8.0.1)\r\n",
      "Requirement already satisfied: threadpoolctl>=2.0.0 in /opt/conda/lib/python3.7/site-packages (from scikit-learn>=0.22->texthero) (3.0.0)\r\n",
      "Requirement already satisfied: murmurhash<1.1.0,>=0.28.0 in /opt/conda/lib/python3.7/site-packages (from spacy<3.0.0->texthero) (1.0.6)\r\n",
      "Collecting catalogue<1.1.0,>=0.0.7\r\n",
      "  Downloading catalogue-1.0.0-py2.py3-none-any.whl (7.7 kB)\r\n",
      "Collecting plac<1.2.0,>=0.9.6\r\n",
      "  Downloading plac-1.1.3-py2.py3-none-any.whl (20 kB)\r\n",
      "Requirement already satisfied: cymem<2.1.0,>=2.0.2 in /opt/conda/lib/python3.7/site-packages (from spacy<3.0.0->texthero) (2.0.6)\r\n",
      "Requirement already satisfied: blis<0.8.0,>=0.4.0 in /opt/conda/lib/python3.7/site-packages (from spacy<3.0.0->texthero) (0.7.6)\r\n",
      "Requirement already satisfied: requests<3.0.0,>=2.13.0 in /opt/conda/lib/python3.7/site-packages (from spacy<3.0.0->texthero) (2.26.0)\r\n",
      "Requirement already satisfied: wasabi<1.1.0,>=0.4.0 in /opt/conda/lib/python3.7/site-packages (from spacy<3.0.0->texthero) (0.9.0)\r\n",
      "Collecting srsly<1.1.0,>=1.0.2\r\n",
      "  Downloading srsly-1.0.5-cp37-cp37m-manylinux2014_x86_64.whl (184 kB)\r\n",
      "     |████████████████████████████████| 184 kB 16.9 MB/s            \r\n",
      "\u001b[?25hRequirement already satisfied: preshed<3.1.0,>=3.0.2 in /opt/conda/lib/python3.7/site-packages (from spacy<3.0.0->texthero) (3.0.6)\r\n",
      "Collecting thinc<7.5.0,>=7.4.1\r\n",
      "  Downloading thinc-7.4.5-cp37-cp37m-manylinux2014_x86_64.whl (1.0 MB)\r\n",
      "     |████████████████████████████████| 1.0 MB 46.8 MB/s            \r\n",
      "\u001b[?25hRequirement already satisfied: setuptools in /opt/conda/lib/python3.7/site-packages (from spacy<3.0.0->texthero) (59.5.0)\r\n",
      "Requirement already satisfied: importlib-metadata>=0.20 in /opt/conda/lib/python3.7/site-packages (from catalogue<1.1.0,>=0.0.7->spacy<3.0.0->texthero) (4.11.3)\r\n",
      "Requirement already satisfied: certifi>=2017.4.17 in /opt/conda/lib/python3.7/site-packages (from requests<3.0.0,>=2.13.0->spacy<3.0.0->texthero) (2021.10.8)\r\n",
      "Requirement already satisfied: charset-normalizer~=2.0.0 in /opt/conda/lib/python3.7/site-packages (from requests<3.0.0,>=2.13.0->spacy<3.0.0->texthero) (2.0.9)\r\n",
      "Requirement already satisfied: idna<4,>=2.5 in /opt/conda/lib/python3.7/site-packages (from requests<3.0.0,>=2.13.0->spacy<3.0.0->texthero) (3.1)\r\n",
      "Requirement already satisfied: urllib3<1.27,>=1.21.1 in /opt/conda/lib/python3.7/site-packages (from requests<3.0.0,>=2.13.0->spacy<3.0.0->texthero) (1.26.7)\r\n",
      "Requirement already satisfied: typing-extensions>=3.6.4 in /opt/conda/lib/python3.7/site-packages (from importlib-metadata>=0.20->catalogue<1.1.0,>=0.0.7->spacy<3.0.0->texthero) (4.1.1)\r\n",
      "Requirement already satisfied: zipp>=0.5 in /opt/conda/lib/python3.7/site-packages (from importlib-metadata>=0.20->catalogue<1.1.0,>=0.0.7->spacy<3.0.0->texthero) (3.6.0)\r\n",
      "Installing collected packages: srsly, plac, catalogue, thinc, spacy, nltk, gensim, texthero\r\n",
      "  Attempting uninstall: srsly\r\n",
      "    Found existing installation: srsly 2.4.2\r\n",
      "    Uninstalling srsly-2.4.2:\r\n",
      "      Successfully uninstalled srsly-2.4.2\r\n",
      "  Attempting uninstall: catalogue\r\n",
      "    Found existing installation: catalogue 2.0.6\r\n",
      "    Uninstalling catalogue-2.0.6:\r\n",
      "      Successfully uninstalled catalogue-2.0.6\r\n",
      "  Attempting uninstall: thinc\r\n",
      "    Found existing installation: thinc 8.0.15\r\n",
      "    Uninstalling thinc-8.0.15:\r\n",
      "      Successfully uninstalled thinc-8.0.15\r\n",
      "  Attempting uninstall: spacy\r\n",
      "    Found existing installation: spacy 3.2.3\r\n",
      "    Uninstalling spacy-3.2.3:\r\n",
      "      Successfully uninstalled spacy-3.2.3\r\n",
      "  Attempting uninstall: nltk\r\n",
      "    Found existing installation: nltk 3.2.4\r\n",
      "    Uninstalling nltk-3.2.4:\r\n",
      "      Successfully uninstalled nltk-3.2.4\r\n",
      "  Attempting uninstall: gensim\r\n",
      "    Found existing installation: gensim 4.0.1\r\n",
      "    Uninstalling gensim-4.0.1:\r\n",
      "      Successfully uninstalled gensim-4.0.1\r\n",
      "\u001b[31mERROR: pip's dependency resolver does not currently take into account all the packages that are installed. This behaviour is the source of the following dependency conflicts.\r\n",
      "scattertext 0.1.5 requires gensim>=4.0.0, but you have gensim 3.8.3 which is incompatible.\r\n",
      "preprocessing 0.1.13 requires nltk==3.2.4, but you have nltk 3.7 which is incompatible.\r\n",
      "en-core-web-sm 3.2.0 requires spacy<3.3.0,>=3.2.0, but you have spacy 2.3.7 which is incompatible.\r\n",
      "en-core-web-lg 3.2.0 requires spacy<3.3.0,>=3.2.0, but you have spacy 2.3.7 which is incompatible.\u001b[0m\r\n",
      "Successfully installed catalogue-1.0.0 gensim-3.8.3 nltk-3.7 plac-1.1.3 spacy-2.3.7 srsly-1.0.5 texthero-1.1.0 thinc-7.4.5\r\n",
      "\u001b[33mWARNING: Running pip as the 'root' user can result in broken permissions and conflicting behaviour with the system package manager. It is recommended to use a virtual environment instead: https://pip.pypa.io/warnings/venv\u001b[0m\r\n",
      "Note: you may need to restart the kernel to use updated packages.\n"
     ]
    }
   ],
   "source": [
    "pip install texthero"
   ]
  },
  {
   "cell_type": "code",
   "execution_count": 5,
   "id": "4ea396cf",
   "metadata": {
    "execution": {
     "iopub.execute_input": "2022-04-24T17:40:51.933715Z",
     "iopub.status.busy": "2022-04-24T17:40:51.932321Z",
     "iopub.status.idle": "2022-04-24T17:41:25.226467Z",
     "shell.execute_reply": "2022-04-24T17:41:25.225585Z",
     "shell.execute_reply.started": "2022-04-24T06:27:00.209782Z"
    },
    "papermill": {
     "duration": 33.412291,
     "end_time": "2022-04-24T17:41:25.226639",
     "exception": false,
     "start_time": "2022-04-24T17:40:51.814348",
     "status": "completed"
    },
    "tags": []
   },
   "outputs": [
    {
     "name": "stdout",
     "output_type": "stream",
     "text": [
      "Requirement already satisfied: spaCy in /opt/conda/lib/python3.7/site-packages (2.3.7)\r\n",
      "Collecting spaCy\r\n",
      "  Downloading spacy-3.2.4-cp37-cp37m-manylinux_2_17_x86_64.manylinux2014_x86_64.whl (6.0 MB)\r\n",
      "     |████████████████████████████████| 6.0 MB 287 kB/s            \r\n",
      "\u001b[?25hRequirement already satisfied: setuptools in /opt/conda/lib/python3.7/site-packages (from spaCy) (59.5.0)\r\n",
      "Requirement already satisfied: spacy-legacy<3.1.0,>=3.0.8 in /opt/conda/lib/python3.7/site-packages (from spaCy) (3.0.9)\r\n",
      "Requirement already satisfied: pathy>=0.3.5 in /opt/conda/lib/python3.7/site-packages (from spaCy) (0.6.1)\r\n",
      "Requirement already satisfied: numpy>=1.15.0 in /opt/conda/lib/python3.7/site-packages (from spaCy) (1.20.3)\r\n",
      "Requirement already satisfied: tqdm<5.0.0,>=4.38.0 in /opt/conda/lib/python3.7/site-packages (from spaCy) (4.62.3)\r\n",
      "Collecting srsly<3.0.0,>=2.4.1\r\n",
      "  Downloading srsly-2.4.3-cp37-cp37m-manylinux_2_17_x86_64.manylinux2014_x86_64.whl (457 kB)\r\n",
      "     |████████████████████████████████| 457 kB 60.9 MB/s            \r\n",
      "\u001b[?25hRequirement already satisfied: wasabi<1.1.0,>=0.8.1 in /opt/conda/lib/python3.7/site-packages (from spaCy) (0.9.0)\r\n",
      "Requirement already satisfied: packaging>=20.0 in /opt/conda/lib/python3.7/site-packages (from spaCy) (21.3)\r\n",
      "Collecting catalogue<2.1.0,>=2.0.6\r\n",
      "  Downloading catalogue-2.0.7-py3-none-any.whl (17 kB)\r\n",
      "Collecting typing-extensions<4.0.0.0,>=3.7.4\r\n",
      "  Downloading typing_extensions-3.10.0.2-py3-none-any.whl (26 kB)\r\n",
      "Requirement already satisfied: jinja2 in /opt/conda/lib/python3.7/site-packages (from spaCy) (3.0.3)\r\n",
      "Requirement already satisfied: murmurhash<1.1.0,>=0.28.0 in /opt/conda/lib/python3.7/site-packages (from spaCy) (1.0.6)\r\n",
      "Requirement already satisfied: cymem<2.1.0,>=2.0.2 in /opt/conda/lib/python3.7/site-packages (from spaCy) (2.0.6)\r\n",
      "Requirement already satisfied: typer<0.5.0,>=0.3.0 in /opt/conda/lib/python3.7/site-packages (from spaCy) (0.4.0)\r\n",
      "Requirement already satisfied: preshed<3.1.0,>=3.0.2 in /opt/conda/lib/python3.7/site-packages (from spaCy) (3.0.6)\r\n",
      "Requirement already satisfied: blis<0.8.0,>=0.4.0 in /opt/conda/lib/python3.7/site-packages (from spaCy) (0.7.6)\r\n",
      "Requirement already satisfied: requests<3.0.0,>=2.13.0 in /opt/conda/lib/python3.7/site-packages (from spaCy) (2.26.0)\r\n",
      "Requirement already satisfied: langcodes<4.0.0,>=3.2.0 in /opt/conda/lib/python3.7/site-packages (from spaCy) (3.3.0)\r\n",
      "Requirement already satisfied: pydantic!=1.8,!=1.8.1,<1.9.0,>=1.7.4 in /opt/conda/lib/python3.7/site-packages (from spaCy) (1.8.2)\r\n",
      "Requirement already satisfied: spacy-loggers<2.0.0,>=1.0.0 in /opt/conda/lib/python3.7/site-packages (from spaCy) (1.0.1)\r\n",
      "Requirement already satisfied: click<8.1.0 in /opt/conda/lib/python3.7/site-packages (from spaCy) (8.0.3)\r\n",
      "Collecting thinc<8.1.0,>=8.0.12\r\n",
      "  Downloading thinc-8.0.15-cp37-cp37m-manylinux_2_17_x86_64.manylinux2014_x86_64.whl (653 kB)\r\n",
      "     |████████████████████████████████| 653 kB 61.1 MB/s            \r\n",
      "\u001b[?25hRequirement already satisfied: zipp>=0.5 in /opt/conda/lib/python3.7/site-packages (from catalogue<2.1.0,>=2.0.6->spaCy) (3.6.0)\r\n",
      "Requirement already satisfied: importlib-metadata in /opt/conda/lib/python3.7/site-packages (from click<8.1.0->spaCy) (4.11.3)\r\n",
      "Requirement already satisfied: pyparsing!=3.0.5,>=2.0.2 in /opt/conda/lib/python3.7/site-packages (from packaging>=20.0->spaCy) (3.0.6)\r\n",
      "Requirement already satisfied: smart-open<6.0.0,>=5.0.0 in /opt/conda/lib/python3.7/site-packages (from pathy>=0.3.5->spaCy) (5.2.1)\r\n",
      "Requirement already satisfied: idna<4,>=2.5 in /opt/conda/lib/python3.7/site-packages (from requests<3.0.0,>=2.13.0->spaCy) (3.1)\r\n",
      "Requirement already satisfied: urllib3<1.27,>=1.21.1 in /opt/conda/lib/python3.7/site-packages (from requests<3.0.0,>=2.13.0->spaCy) (1.26.7)\r\n",
      "Requirement already satisfied: certifi>=2017.4.17 in /opt/conda/lib/python3.7/site-packages (from requests<3.0.0,>=2.13.0->spaCy) (2021.10.8)\r\n",
      "Requirement already satisfied: charset-normalizer~=2.0.0 in /opt/conda/lib/python3.7/site-packages (from requests<3.0.0,>=2.13.0->spaCy) (2.0.9)\r\n",
      "Requirement already satisfied: MarkupSafe>=2.0 in /opt/conda/lib/python3.7/site-packages (from jinja2->spaCy) (2.1.1)\r\n",
      "Installing collected packages: typing-extensions, catalogue, srsly, thinc, spaCy\r\n",
      "  Attempting uninstall: typing-extensions\r\n",
      "    Found existing installation: typing-extensions 4.1.1\r\n",
      "    Uninstalling typing-extensions-4.1.1:\r\n",
      "      Successfully uninstalled typing-extensions-4.1.1\r\n",
      "  Attempting uninstall: catalogue\r\n",
      "    Found existing installation: catalogue 1.0.0\r\n",
      "    Uninstalling catalogue-1.0.0:\r\n",
      "      Successfully uninstalled catalogue-1.0.0\r\n",
      "  Attempting uninstall: srsly\r\n",
      "    Found existing installation: srsly 1.0.5\r\n",
      "    Uninstalling srsly-1.0.5:\r\n",
      "      Successfully uninstalled srsly-1.0.5\r\n",
      "  Attempting uninstall: thinc\r\n",
      "    Found existing installation: thinc 7.4.5\r\n",
      "    Uninstalling thinc-7.4.5:\r\n",
      "      Successfully uninstalled thinc-7.4.5\r\n",
      "  Attempting uninstall: spaCy\r\n",
      "    Found existing installation: spacy 2.3.7\r\n",
      "    Uninstalling spacy-2.3.7:\r\n",
      "      Successfully uninstalled spacy-2.3.7\r\n",
      "\u001b[31mERROR: pip's dependency resolver does not currently take into account all the packages that are installed. This behaviour is the source of the following dependency conflicts.\r\n",
      "tensorflow-io 0.21.0 requires tensorflow-io-gcs-filesystem==0.21.0, which is not installed.\r\n",
      "explainable-ai-sdk 1.3.2 requires xai-image-widget, which is not installed.\r\n",
      "texthero 1.1.0 requires spacy<3.0.0, but you have spacy 3.2.4 which is incompatible.\r\n",
      "tensorflow 2.6.2 requires numpy~=1.19.2, but you have numpy 1.20.3 which is incompatible.\r\n",
      "tensorflow 2.6.2 requires six~=1.15.0, but you have six 1.16.0 which is incompatible.\r\n",
      "tensorflow 2.6.2 requires typing-extensions~=3.7.4, but you have typing-extensions 3.10.0.2 which is incompatible.\r\n",
      "tensorflow 2.6.2 requires wrapt~=1.12.1, but you have wrapt 1.13.3 which is incompatible.\r\n",
      "tensorflow-transform 1.5.0 requires absl-py<0.13,>=0.9, but you have absl-py 0.15.0 which is incompatible.\r\n",
      "tensorflow-transform 1.5.0 requires numpy<1.20,>=1.16, but you have numpy 1.20.3 which is incompatible.\r\n",
      "tensorflow-transform 1.5.0 requires pyarrow<6,>=1, but you have pyarrow 6.0.1 which is incompatible.\r\n",
      "tensorflow-transform 1.5.0 requires tensorflow!=2.0.*,!=2.1.*,!=2.2.*,!=2.3.*,!=2.4.*,!=2.5.*,!=2.6.*,<2.8,>=1.15.2, but you have tensorflow 2.6.2 which is incompatible.\r\n",
      "tensorflow-serving-api 2.7.0 requires tensorflow<3,>=2.7.0, but you have tensorflow 2.6.2 which is incompatible.\r\n",
      "flake8 4.0.1 requires importlib-metadata<4.3; python_version < \"3.8\", but you have importlib-metadata 4.11.3 which is incompatible.\r\n",
      "apache-beam 2.34.0 requires dill<0.3.2,>=0.3.1.1, but you have dill 0.3.4 which is incompatible.\r\n",
      "apache-beam 2.34.0 requires httplib2<0.20.0,>=0.8, but you have httplib2 0.20.2 which is incompatible.\r\n",
      "apache-beam 2.34.0 requires pyarrow<6.0.0,>=0.15.1, but you have pyarrow 6.0.1 which is incompatible.\r\n",
      "aioitertools 0.10.0 requires typing_extensions>=4.0; python_version < \"3.10\", but you have typing-extensions 3.10.0.2 which is incompatible.\r\n",
      "aiobotocore 2.1.2 requires botocore<1.23.25,>=1.23.24, but you have botocore 1.24.20 which is incompatible.\u001b[0m\r\n",
      "Successfully installed catalogue-2.0.7 spaCy-3.2.4 srsly-2.4.3 thinc-8.0.15 typing-extensions-3.10.0.2\r\n",
      "\u001b[33mWARNING: Running pip as the 'root' user can result in broken permissions and conflicting behaviour with the system package manager. It is recommended to use a virtual environment instead: https://pip.pypa.io/warnings/venv\u001b[0m\r\n",
      "Note: you may need to restart the kernel to use updated packages.\n"
     ]
    }
   ],
   "source": [
    "pip install spaCy -U"
   ]
  },
  {
   "cell_type": "code",
   "execution_count": 6,
   "id": "1b619fc8",
   "metadata": {
    "execution": {
     "iopub.execute_input": "2022-04-24T17:41:25.516827Z",
     "iopub.status.busy": "2022-04-24T17:41:25.515759Z",
     "iopub.status.idle": "2022-04-24T17:41:38.960464Z",
     "shell.execute_reply": "2022-04-24T17:41:38.961041Z",
     "shell.execute_reply.started": "2022-04-24T06:27:15.095422Z"
    },
    "papermill": {
     "duration": 13.601045,
     "end_time": "2022-04-24T17:41:38.961247",
     "exception": false,
     "start_time": "2022-04-24T17:41:25.360202",
     "status": "completed"
    },
    "tags": []
   },
   "outputs": [],
   "source": [
    "# инструменты для NLP\n",
    "import nltk\n",
    "from nltk.tokenize import sent_tokenize, word_tokenize\n",
    "from nltk.corpus import stopwords\n",
    "import pymorphy2\n",
    "\n",
    "# чтобы снизить получившуюся размерность после превращения слов в векторы \n",
    "import texthero as hero\n",
    "\n",
    "# инструменты для построения моделей\n",
    "import matplotlib.pyplot as plt\n",
    "from sklearn.model_selection import train_test_split\n",
    "from sklearn.neighbors import KNeighborsClassifier\n",
    "from sklearn.svm import SVC\n",
    "from sklearn import svm\n",
    "from sklearn.tree import DecisionTreeClassifier\n",
    "from sklearn.ensemble import RandomForestClassifier \n",
    "from sklearn.metrics import mean_absolute_error, mean_squared_error\n",
    "from sklearn.ensemble import AdaBoostClassifier\n",
    "from sklearn.ensemble import GradientBoostingClassifier"
   ]
  },
  {
   "cell_type": "markdown",
   "id": "6351e466",
   "metadata": {
    "papermill": {
     "duration": 0.132333,
     "end_time": "2022-04-24T17:41:39.224960",
     "exception": false,
     "start_time": "2022-04-24T17:41:39.092627",
     "status": "completed"
    },
    "tags": []
   },
   "source": [
    "Импортируем данные"
   ]
  },
  {
   "cell_type": "code",
   "execution_count": 7,
   "id": "4dadd370",
   "metadata": {
    "execution": {
     "iopub.execute_input": "2022-04-24T17:41:39.495129Z",
     "iopub.status.busy": "2022-04-24T17:41:39.494335Z",
     "iopub.status.idle": "2022-04-24T17:41:39.536454Z",
     "shell.execute_reply": "2022-04-24T17:41:39.537081Z",
     "shell.execute_reply.started": "2022-04-24T06:27:26.371604Z"
    },
    "papermill": {
     "duration": 0.178583,
     "end_time": "2022-04-24T17:41:39.537281",
     "exception": false,
     "start_time": "2022-04-24T17:41:39.358698",
     "status": "completed"
    },
    "tags": []
   },
   "outputs": [],
   "source": [
    "data = pd.read_csv('/kaggle/input/kontur-home-assignment/train.tsv', sep = '\\t')"
   ]
  },
  {
   "cell_type": "markdown",
   "id": "7bbe54c1",
   "metadata": {
    "papermill": {
     "duration": 0.132326,
     "end_time": "2022-04-24T17:41:39.804302",
     "exception": false,
     "start_time": "2022-04-24T17:41:39.671976",
     "status": "completed"
    },
    "tags": []
   },
   "source": [
    "**NLP**\n",
    "\n",
    "Сначала предобработаем строки в наборах данных с помощью лемматизации, а затем токенизации\n",
    "\n",
    "Для этого сперва создадим объекты классов для лемматизации и превращения слов в векторы"
   ]
  },
  {
   "cell_type": "code",
   "execution_count": 8,
   "id": "08631166",
   "metadata": {
    "execution": {
     "iopub.execute_input": "2022-04-24T17:41:40.073595Z",
     "iopub.status.busy": "2022-04-24T17:41:40.071655Z",
     "iopub.status.idle": "2022-04-24T17:41:40.579994Z",
     "shell.execute_reply": "2022-04-24T17:41:40.579405Z",
     "shell.execute_reply.started": "2022-04-24T06:27:26.412852Z"
    },
    "papermill": {
     "duration": 0.645321,
     "end_time": "2022-04-24T17:41:40.580159",
     "exception": false,
     "start_time": "2022-04-24T17:41:39.934838",
     "status": "completed"
    },
    "tags": []
   },
   "outputs": [],
   "source": [
    "morph = pymorphy2.MorphAnalyzer()\n",
    "ru_stopwords = stopwords.words('russian')"
   ]
  },
  {
   "cell_type": "markdown",
   "id": "02feaa5c",
   "metadata": {
    "papermill": {
     "duration": 0.132196,
     "end_time": "2022-04-24T17:41:40.846689",
     "exception": false,
     "start_time": "2022-04-24T17:41:40.714493",
     "status": "completed"
    },
    "tags": []
   },
   "source": [
    "Удалим из текста знаки препинания"
   ]
  },
  {
   "cell_type": "code",
   "execution_count": 9,
   "id": "494ca54d",
   "metadata": {
    "execution": {
     "iopub.execute_input": "2022-04-24T17:41:41.119460Z",
     "iopub.status.busy": "2022-04-24T17:41:41.118713Z",
     "iopub.status.idle": "2022-04-24T17:41:41.150312Z",
     "shell.execute_reply": "2022-04-24T17:41:41.151539Z",
     "shell.execute_reply.started": "2022-04-24T06:27:26.885461Z"
    },
    "papermill": {
     "duration": 0.170827,
     "end_time": "2022-04-24T17:41:41.151889",
     "exception": false,
     "start_time": "2022-04-24T17:41:40.981062",
     "status": "completed"
    },
    "tags": []
   },
   "outputs": [
    {
     "name": "stderr",
     "output_type": "stream",
     "text": [
      "/opt/conda/lib/python3.7/site-packages/ipykernel_launcher.py:1: FutureWarning: The default value of regex will change from True to False in a future version.\n",
      "  \"\"\"Entry point for launching an IPython kernel.\n"
     ]
    }
   ],
   "source": [
    "data['title'] = data['title'].str.replace(\"[^А-ЯЁа-яё0-9 ]\", \"\")"
   ]
  },
  {
   "cell_type": "markdown",
   "id": "e9ab9e6d",
   "metadata": {
    "papermill": {
     "duration": 0.131558,
     "end_time": "2022-04-24T17:41:41.419463",
     "exception": false,
     "start_time": "2022-04-24T17:41:41.287905",
     "status": "completed"
    },
    "tags": []
   },
   "source": [
    "Теперь время для лемматизации"
   ]
  },
  {
   "cell_type": "code",
   "execution_count": 10,
   "id": "e0e2a4fb",
   "metadata": {
    "execution": {
     "iopub.execute_input": "2022-04-24T17:41:41.693834Z",
     "iopub.status.busy": "2022-04-24T17:41:41.693037Z",
     "iopub.status.idle": "2022-04-24T18:08:57.169340Z",
     "shell.execute_reply": "2022-04-24T18:08:57.169933Z",
     "shell.execute_reply.started": "2022-04-24T06:27:26.917523Z"
    },
    "papermill": {
     "duration": 1635.618164,
     "end_time": "2022-04-24T18:08:57.170150",
     "exception": false,
     "start_time": "2022-04-24T17:41:41.551986",
     "status": "completed"
    },
    "tags": []
   },
   "outputs": [],
   "source": [
    "def converter(sentence):\n",
    "    list = []\n",
    "    words = sentence.split()\n",
    "    analyzer = pymorphy2.MorphAnalyzer()\n",
    "    list = map(lambda x: analyzer.parse(x)[0].normal_form, words)\n",
    "    return ' '.join(list)\n",
    "data['lemmatized_title'] = data['title'].apply(converter)"
   ]
  },
  {
   "cell_type": "markdown",
   "id": "7ca076e1",
   "metadata": {
    "papermill": {
     "duration": 0.134264,
     "end_time": "2022-04-24T18:08:57.438205",
     "exception": false,
     "start_time": "2022-04-24T18:08:57.303941",
     "status": "completed"
    },
    "tags": []
   },
   "source": [
    "и удаления стоп-слов"
   ]
  },
  {
   "cell_type": "code",
   "execution_count": 11,
   "id": "26c3e3ce",
   "metadata": {
    "execution": {
     "iopub.execute_input": "2022-04-24T18:08:57.705674Z",
     "iopub.status.busy": "2022-04-24T18:08:57.705032Z",
     "iopub.status.idle": "2022-04-24T18:08:57.798884Z",
     "shell.execute_reply": "2022-04-24T18:08:57.799548Z",
     "shell.execute_reply.started": "2022-04-24T06:55:00.253369Z"
    },
    "papermill": {
     "duration": 0.229314,
     "end_time": "2022-04-24T18:08:57.799754",
     "exception": false,
     "start_time": "2022-04-24T18:08:57.570440",
     "status": "completed"
    },
    "tags": []
   },
   "outputs": [],
   "source": [
    "data['clean_title'] = data['lemmatized_title'].\\\n",
    "                            apply(lambda x: ' '.join([word for word in x.split() if word not in (ru_stopwords)]))"
   ]
  },
  {
   "cell_type": "markdown",
   "id": "d6004fe8",
   "metadata": {
    "papermill": {
     "duration": 0.131266,
     "end_time": "2022-04-24T18:08:58.062406",
     "exception": false,
     "start_time": "2022-04-24T18:08:57.931140",
     "status": "completed"
    },
    "tags": []
   },
   "source": [
    "Разделим обработанный текст на отдельные слова-токены"
   ]
  },
  {
   "cell_type": "code",
   "execution_count": 12,
   "id": "346bb4b6",
   "metadata": {
    "execution": {
     "iopub.execute_input": "2022-04-24T18:08:58.332670Z",
     "iopub.status.busy": "2022-04-24T18:08:58.331955Z",
     "iopub.status.idle": "2022-04-24T18:08:59.238587Z",
     "shell.execute_reply": "2022-04-24T18:08:59.239235Z",
     "shell.execute_reply.started": "2022-04-24T06:55:00.351114Z"
    },
    "papermill": {
     "duration": 1.044354,
     "end_time": "2022-04-24T18:08:59.239452",
     "exception": false,
     "start_time": "2022-04-24T18:08:58.195098",
     "status": "completed"
    },
    "tags": []
   },
   "outputs": [],
   "source": [
    "data['tokens'] = data['clean_title'].apply(word_tokenize)"
   ]
  },
  {
   "cell_type": "markdown",
   "id": "8661a5c5",
   "metadata": {
    "papermill": {
     "duration": 0.13492,
     "end_time": "2022-04-24T18:08:59.508624",
     "exception": false,
     "start_time": "2022-04-24T18:08:59.373704",
     "status": "completed"
    },
    "tags": []
   },
   "source": [
    "Сформируем из тренировочного набора данных тренировочную и тестовую выборки"
   ]
  },
  {
   "cell_type": "code",
   "execution_count": 13,
   "id": "5b04de8d",
   "metadata": {
    "execution": {
     "iopub.execute_input": "2022-04-24T18:08:59.783704Z",
     "iopub.status.busy": "2022-04-24T18:08:59.782971Z",
     "iopub.status.idle": "2022-04-24T18:08:59.791113Z",
     "shell.execute_reply": "2022-04-24T18:08:59.791909Z",
     "shell.execute_reply.started": "2022-04-24T06:55:01.288991Z"
    },
    "papermill": {
     "duration": 0.150863,
     "end_time": "2022-04-24T18:08:59.792126",
     "exception": false,
     "start_time": "2022-04-24T18:08:59.641263",
     "status": "completed"
    },
    "tags": []
   },
   "outputs": [],
   "source": [
    "is_fake = data['is_fake']\n",
    "data = data.drop(columns = ['is_fake'])\n",
    "X_train, X_test, y_train, y_test = train_test_split(data, is_fake, test_size = 0.2)"
   ]
  },
  {
   "cell_type": "markdown",
   "id": "d2b1ee94",
   "metadata": {
    "papermill": {
     "duration": 0.135893,
     "end_time": "2022-04-24T18:09:00.063082",
     "exception": false,
     "start_time": "2022-04-24T18:08:59.927189",
     "status": "completed"
    },
    "tags": []
   },
   "source": [
    "Создадим пустой \"массив слов\" и заполним его словами из заголовков"
   ]
  },
  {
   "cell_type": "code",
   "execution_count": 14,
   "id": "fb81a2f5",
   "metadata": {
    "execution": {
     "iopub.execute_input": "2022-04-24T18:09:00.343220Z",
     "iopub.status.busy": "2022-04-24T18:09:00.342482Z",
     "iopub.status.idle": "2022-04-24T18:09:00.653723Z",
     "shell.execute_reply": "2022-04-24T18:09:00.654293Z",
     "shell.execute_reply.started": "2022-04-24T06:55:01.303268Z"
    },
    "papermill": {
     "duration": 0.457162,
     "end_time": "2022-04-24T18:09:00.654485",
     "exception": false,
     "start_time": "2022-04-24T18:09:00.197323",
     "status": "completed"
    },
    "tags": []
   },
   "outputs": [],
   "source": [
    "corpus = []\n",
    "for item in X_train['tokens']:\n",
    "    for token in item:\n",
    "        corpus.append([token])"
   ]
  },
  {
   "cell_type": "markdown",
   "id": "50c23653",
   "metadata": {
    "papermill": {
     "duration": 0.139627,
     "end_time": "2022-04-24T18:09:00.942160",
     "exception": false,
     "start_time": "2022-04-24T18:09:00.802533",
     "status": "completed"
    },
    "tags": []
   },
   "source": [
    "Превратим текст заголовков в векторы\n",
    "\n",
    "Поскольку анализируем целые заголовки, удобнее использовать Doc2Vec, каждому заголовку будет соответствовать вектор фиксированной размерности\n",
    "Размерность векторов (vector_size) подбиралась путём ручного перебора в рамках 2-10. Работать с бОльшей размерностью без сжатия tsne неудобно, а с tsne модели хуже (имеют бОльшее значение RMSE). Min count выбран 2, чтобы отсечь слова, встречающиеся лишь однажды и скорее путающие, нежели несущие действительно полезную информацию "
   ]
  },
  {
   "cell_type": "code",
   "execution_count": 15,
   "id": "2dcf22f6",
   "metadata": {
    "execution": {
     "iopub.execute_input": "2022-04-24T18:09:01.216704Z",
     "iopub.status.busy": "2022-04-24T18:09:01.215594Z",
     "iopub.status.idle": "2022-04-24T18:09:01.217537Z",
     "shell.execute_reply": "2022-04-24T18:09:01.218173Z",
     "shell.execute_reply.started": "2022-04-24T06:55:01.581139Z"
    },
    "papermill": {
     "duration": 0.143214,
     "end_time": "2022-04-24T18:09:01.218360",
     "exception": false,
     "start_time": "2022-04-24T18:09:01.075146",
     "status": "completed"
    },
    "tags": []
   },
   "outputs": [],
   "source": [
    "from gensim.models.doc2vec import Doc2Vec, TaggedDocument\n",
    "model = Doc2Vec(vector_size=5, min_count=2, epochs = 20)"
   ]
  },
  {
   "cell_type": "code",
   "execution_count": 16,
   "id": "f3c115ad",
   "metadata": {
    "execution": {
     "iopub.execute_input": "2022-04-24T18:09:01.494448Z",
     "iopub.status.busy": "2022-04-24T18:09:01.493734Z",
     "iopub.status.idle": "2022-04-24T18:09:55.180444Z",
     "shell.execute_reply": "2022-04-24T18:09:55.179789Z",
     "shell.execute_reply.started": "2022-04-24T06:55:01.594037Z"
    },
    "papermill": {
     "duration": 53.826386,
     "end_time": "2022-04-24T18:09:55.180592",
     "exception": false,
     "start_time": "2022-04-24T18:09:01.354206",
     "status": "completed"
    },
    "tags": []
   },
   "outputs": [],
   "source": [
    "words = [TaggedDocument(word, 'tag') for word in corpus]\n",
    "model.build_vocab(words)\n",
    "model.train(words, total_examples=model.corpus_count, epochs=model.epochs)"
   ]
  },
  {
   "cell_type": "code",
   "execution_count": 17,
   "id": "d45c063d",
   "metadata": {
    "execution": {
     "iopub.execute_input": "2022-04-24T18:09:55.453354Z",
     "iopub.status.busy": "2022-04-24T18:09:55.448747Z",
     "iopub.status.idle": "2022-04-24T18:10:02.942234Z",
     "shell.execute_reply": "2022-04-24T18:10:02.943003Z",
     "shell.execute_reply.started": "2022-04-24T06:55:49.727216Z"
    },
    "papermill": {
     "duration": 7.630457,
     "end_time": "2022-04-24T18:10:02.943211",
     "exception": false,
     "start_time": "2022-04-24T18:09:55.312754",
     "status": "completed"
    },
    "tags": []
   },
   "outputs": [],
   "source": [
    "card2vec_train = [model.infer_vector((X_train['tokens'][i]))\n",
    "                  for i in X_train.index]\n",
    "card2vec_test = [model.infer_vector((X_test['tokens'][i]))\n",
    "                  for i in X_test.index]"
   ]
  },
  {
   "cell_type": "markdown",
   "id": "87757d88",
   "metadata": {
    "papermill": {
     "duration": 0.131338,
     "end_time": "2022-04-24T18:10:03.211271",
     "exception": false,
     "start_time": "2022-04-24T18:10:03.079933",
     "status": "completed"
    },
    "tags": []
   },
   "source": [
    "Добавим вектора в датафрейм\n",
    "\n",
    "Тренировочная и тестовая выборки здесь и далее обрабатываются параллельно, чтобы исключить пропуск какого-либо шага обработки"
   ]
  },
  {
   "cell_type": "code",
   "execution_count": 18,
   "id": "a6135e51",
   "metadata": {
    "execution": {
     "iopub.execute_input": "2022-04-24T18:10:03.494138Z",
     "iopub.status.busy": "2022-04-24T18:10:03.493095Z",
     "iopub.status.idle": "2022-04-24T18:10:03.505956Z",
     "shell.execute_reply": "2022-04-24T18:10:03.506542Z",
     "shell.execute_reply.started": "2022-04-24T06:55:57.076535Z"
    },
    "papermill": {
     "duration": 0.154617,
     "end_time": "2022-04-24T18:10:03.506726",
     "exception": false,
     "start_time": "2022-04-24T18:10:03.352109",
     "status": "completed"
    },
    "tags": []
   },
   "outputs": [],
   "source": [
    "vectors_train= np.array(card2vec_train).tolist()\n",
    "vectors_test= np.array(card2vec_test).tolist()\n",
    "X_train['card2vec'] = vectors_train\n",
    "X_test['card2vec'] = vectors_test"
   ]
  },
  {
   "cell_type": "markdown",
   "id": "10826938",
   "metadata": {
    "papermill": {
     "duration": 0.133377,
     "end_time": "2022-04-24T18:10:03.775563",
     "exception": false,
     "start_time": "2022-04-24T18:10:03.642186",
     "status": "completed"
    },
    "tags": []
   },
   "source": [
    "**Сожмём многомерные данные до двухмерных**\n",
    "\n",
    "Этот метод можно использовать для визуализации распределения точек-образцов на графике, когда размерность векторов, получаемых с помощью Doc2Vec > 2.\n",
    "Однако эмпирическим путём выяснено, что на модели в этой работе показывают себя хуже с координатами векторов, полученными tsne, нежели просто с координатами векторами Doc2Vec "
   ]
  },
  {
   "cell_type": "code",
   "execution_count": 19,
   "id": "f3e11a4b",
   "metadata": {
    "execution": {
     "iopub.execute_input": "2022-04-24T18:10:04.045800Z",
     "iopub.status.busy": "2022-04-24T18:10:04.044781Z",
     "iopub.status.idle": "2022-04-24T18:10:34.709556Z",
     "shell.execute_reply": "2022-04-24T18:10:34.710157Z",
     "shell.execute_reply.started": "2022-04-23T18:28:46.344548Z"
    },
    "papermill": {
     "duration": 30.801805,
     "end_time": "2022-04-24T18:10:34.710422",
     "exception": false,
     "start_time": "2022-04-24T18:10:03.908617",
     "status": "completed"
    },
    "tags": []
   },
   "outputs": [],
   "source": [
    "X_train['tsnec2v'] = hero.tsne(X_train['card2vec'])\n",
    "X_test['tsnec2v'] = hero.tsne(X_test['card2vec'])"
   ]
  },
  {
   "cell_type": "code",
   "execution_count": 20,
   "id": "3548ce40",
   "metadata": {
    "execution": {
     "iopub.execute_input": "2022-04-24T18:10:34.996761Z",
     "iopub.status.busy": "2022-04-24T18:10:34.996041Z",
     "iopub.status.idle": "2022-04-24T18:10:35.187720Z",
     "shell.execute_reply": "2022-04-24T18:10:35.188288Z",
     "shell.execute_reply.started": "2022-04-24T06:55:57.093108Z"
    },
    "papermill": {
     "duration": 0.335814,
     "end_time": "2022-04-24T18:10:35.188507",
     "exception": false,
     "start_time": "2022-04-24T18:10:34.852693",
     "status": "completed"
    },
    "tags": []
   },
   "outputs": [],
   "source": [
    "X_train = pd.concat([X_train, pd.DataFrame(X_train['card2vec'].to_list(), \\\n",
    "                                                 columns = ['1_2vec', '2_2vec','3_2vec', '4_2vec', '5_2vec'], \\\n",
    "                                                 index = X_train.index)], axis=1)\n",
    "X_test = pd.concat([X_test, pd.DataFrame(X_test['card2vec'].to_list(), \\\n",
    "                                                 columns = ['1_2vec', '2_2vec','3_2vec', '4_2vec', '5_2vec'], \\\n",
    "                                                 index = X_test.index)], axis=1)\n",
    "X_train['words_number'] = [len(X_train['tokens'][i])\n",
    "                  for i in X_train.index]\n",
    "X_test['words_number'] = [len(X_test['tokens'][i])\n",
    "                  for i in X_test.index]\n",
    "X_train['words_average'] = [sum(map(len, X_train['clean_title'][i].split()))/len(X_train['clean_title'][i].split())\n",
    "                  for i in X_train.index]\n",
    "X_test['words_average'] = [sum(map(len, X_test['clean_title'][i].split()))/len(X_test['clean_title'][i].split())\n",
    "                  for i in X_test.index]"
   ]
  },
  {
   "cell_type": "markdown",
   "id": "fc8f4f49",
   "metadata": {
    "papermill": {
     "duration": 0.136011,
     "end_time": "2022-04-24T18:10:35.462026",
     "exception": false,
     "start_time": "2022-04-24T18:10:35.326015",
     "status": "completed"
    },
    "tags": []
   },
   "source": [
    "Пробовала строить модели, основываясь только на координатах векторов (такой выборке соответствует X_train_2_columns), и с учётом количества слов и средней длины слова в строке (такой выборке соответствует X_train_4_columns). Все методы показывают меньшее значение RMSE на второй выборке"
   ]
  },
  {
   "cell_type": "code",
   "execution_count": 21,
   "id": "6f515c30",
   "metadata": {
    "execution": {
     "iopub.execute_input": "2022-04-24T18:10:35.740237Z",
     "iopub.status.busy": "2022-04-24T18:10:35.739502Z",
     "iopub.status.idle": "2022-04-24T18:10:35.752196Z",
     "shell.execute_reply": "2022-04-24T18:10:35.752738Z",
     "shell.execute_reply.started": "2022-04-24T07:01:12.473742Z"
    },
    "papermill": {
     "duration": 0.151225,
     "end_time": "2022-04-24T18:10:35.752993",
     "exception": false,
     "start_time": "2022-04-24T18:10:35.601768",
     "status": "completed"
    },
    "tags": []
   },
   "outputs": [],
   "source": [
    "X_train_4_columns = X_train.drop(columns = ['title', 'lemmatized_title', 'clean_title', 'tokens', 'card2vec', 'tsnec2v'])\n",
    "X_test_4_columns = X_test.drop(columns = ['title', 'lemmatized_title', 'clean_title', 'tokens', 'card2vec', 'tsnec2v'])"
   ]
  },
  {
   "cell_type": "code",
   "execution_count": 22,
   "id": "b72e659b",
   "metadata": {
    "execution": {
     "iopub.execute_input": "2022-04-24T18:10:36.030277Z",
     "iopub.status.busy": "2022-04-24T18:10:36.029534Z",
     "iopub.status.idle": "2022-04-24T18:10:36.036217Z",
     "shell.execute_reply": "2022-04-24T18:10:36.036843Z",
     "shell.execute_reply.started": "2022-04-24T06:55:57.741376Z"
    },
    "papermill": {
     "duration": 0.146153,
     "end_time": "2022-04-24T18:10:36.037042",
     "exception": false,
     "start_time": "2022-04-24T18:10:35.890889",
     "status": "completed"
    },
    "tags": []
   },
   "outputs": [],
   "source": [
    "X_train_2_columns = X_train.drop(columns = ['title', 'lemmatized_title', 'clean_title', 'tokens',\\\n",
    "                                            'card2vec', 'tsnec2v', 'words_number', 'words_average'])\n",
    "X_test_2_columns = X_test.drop(columns = ['title', 'lemmatized_title', 'clean_title', 'tokens', \\\n",
    "                                          'card2vec', 'tsnec2v', 'words_number', 'words_average'])"
   ]
  },
  {
   "cell_type": "markdown",
   "id": "51c77356",
   "metadata": {
    "papermill": {
     "duration": 0.134613,
     "end_time": "2022-04-24T18:10:36.307564",
     "exception": false,
     "start_time": "2022-04-24T18:10:36.172951",
     "status": "completed"
    },
    "tags": []
   },
   "source": [
    "Попробуем перебирать разные методы, от простых к сложным, и посмотрим на оценки разных моделей\n",
    "\n",
    "Модели оцениваются RMSE "
   ]
  },
  {
   "cell_type": "markdown",
   "id": "4a7ded5e",
   "metadata": {
    "papermill": {
     "duration": 0.141163,
     "end_time": "2022-04-24T18:10:36.589193",
     "exception": false,
     "start_time": "2022-04-24T18:10:36.448030",
     "status": "completed"
    },
    "tags": []
   },
   "source": [
    "**KNN** \n",
    "\n",
    "Здесь приведена оптимизация количества ближайших соседей при изменении размерности вектора\n",
    "\n",
    "2-dimens vector, K = 27 => RMSE == 0,276\n",
    "         \n",
    "4-dimens vector, K = 40 => RMSE == 0,274        \n",
    "         \n",
    "***5-dimens vector, K = 48 => RMSE == 0,267***  лучший вариант, при min_count == 2, K == 41 => RMSE == 0,260\n",
    "         \n",
    "6-dimens vector, K = 44 => RMSE == 0,269\n",
    "\n",
    "8-dimens vector, K = 42 => RMSE == 0,269\n",
    "\n",
    "10-dimens vector, K = 41 => RMSE == 0.272"
   ]
  },
  {
   "cell_type": "markdown",
   "id": "9d334045",
   "metadata": {
    "papermill": {
     "duration": 0.136006,
     "end_time": "2022-04-24T18:10:36.859516",
     "exception": false,
     "start_time": "2022-04-24T18:10:36.723510",
     "status": "completed"
    },
    "tags": []
   },
   "source": [
    "Поиск оптимального числа ближайших соседей:"
   ]
  },
  {
   "cell_type": "code",
   "execution_count": 23,
   "id": "a345df94",
   "metadata": {
    "execution": {
     "iopub.execute_input": "2022-04-24T18:10:37.129727Z",
     "iopub.status.busy": "2022-04-24T18:10:37.129018Z",
     "iopub.status.idle": "2022-04-24T18:10:40.278448Z",
     "shell.execute_reply": "2022-04-24T18:10:40.277773Z",
     "shell.execute_reply.started": "2022-04-24T07:01:31.541965Z"
    },
    "papermill": {
     "duration": 3.283604,
     "end_time": "2022-04-24T18:10:40.278596",
     "exception": false,
     "start_time": "2022-04-24T18:10:36.994992",
     "status": "completed"
    },
    "tags": []
   },
   "outputs": [],
   "source": [
    "error_rate = []\n",
    "for i in range(1,50):\n",
    "    knn = KNeighborsClassifier(n_neighbors=i)\n",
    "    knn.fit(X_train_4_columns,y_train)\n",
    "    pred_i = knn.predict(X_test_4_columns)\n",
    "    error_rate.append(np.mean(pred_i != y_test))"
   ]
  },
  {
   "cell_type": "code",
   "execution_count": 24,
   "id": "feca4458",
   "metadata": {
    "execution": {
     "iopub.execute_input": "2022-04-24T18:10:40.557705Z",
     "iopub.status.busy": "2022-04-24T18:10:40.556750Z",
     "iopub.status.idle": "2022-04-24T18:10:40.817823Z",
     "shell.execute_reply": "2022-04-24T18:10:40.818309Z",
     "shell.execute_reply.started": "2022-04-24T07:01:34.607845Z"
    },
    "papermill": {
     "duration": 0.40567,
     "end_time": "2022-04-24T18:10:40.818505",
     "exception": false,
     "start_time": "2022-04-24T18:10:40.412835",
     "status": "completed"
    },
    "tags": []
   },
   "outputs": [
    {
     "name": "stdout",
     "output_type": "stream",
     "text": [
      "Minimum error:- 0.2456597222222222 at K = 42\n"
     ]
    },
    {
     "data": {
      "image/png": "[encoded data removed]",
      "text/plain": [
       "<Figure size 720x432 with 1 Axes>"
      ]
     },
     "metadata": {
      "needs_background": "light"
     },
     "output_type": "display_data"
    }
   ],
   "source": [
    "plt.figure(figsize=(10,6))\n",
    "plt.plot(range(1,50),error_rate,color='blue', linestyle='dashed',marker='o',markerfacecolor='red', markersize=10)\n",
    "plt.title('Error Rate vs. K Value')\n",
    "plt.xlabel('K')\n",
    "plt.ylabel('Error Rate')\n",
    "req_k_value = error_rate.index(min(error_rate))+1\n",
    "print(\"Minimum error:-\",min(error_rate),\"at K =\",req_k_value)"
   ]
  },
  {
   "cell_type": "markdown",
   "id": "66a6383e",
   "metadata": {
    "papermill": {
     "duration": 0.135318,
     "end_time": "2022-04-24T18:10:41.089209",
     "exception": false,
     "start_time": "2022-04-24T18:10:40.953891",
     "status": "completed"
    },
    "tags": []
   },
   "source": [
    "**SVC**\n",
    "\n",
    "RMSE == 0,47 for X_train_4_columns\n",
    "\n",
    "     == 0,47 for X_train_2_columns\n",
    "\n",
    "2-dimensional vector, kernel = rbf => RMSE == 0.273\n",
    "     \n",
    "6-dimensional vector, kernel = rbf => RMSE == 0.274\n",
    "\n",
    "Модель показывала худшую производительность, чем KNN, поэтому RMSE приведены не для всех исследованных размерностей векторов"
   ]
  },
  {
   "cell_type": "code",
   "execution_count": 25,
   "id": "f3f49ca0",
   "metadata": {
    "execution": {
     "iopub.execute_input": "2022-04-24T18:10:41.364520Z",
     "iopub.status.busy": "2022-04-24T18:10:41.363516Z",
     "iopub.status.idle": "2022-04-24T18:10:41.366433Z",
     "shell.execute_reply": "2022-04-24T18:10:41.365878Z",
     "shell.execute_reply.started": "2022-04-24T07:02:24.537605Z"
    },
    "papermill": {
     "duration": 0.14025,
     "end_time": "2022-04-24T18:10:41.366575",
     "exception": false,
     "start_time": "2022-04-24T18:10:41.226325",
     "status": "completed"
    },
    "tags": []
   },
   "outputs": [],
   "source": [
    "SVC_model = SVC()"
   ]
  },
  {
   "cell_type": "code",
   "execution_count": 26,
   "id": "226f9328",
   "metadata": {
    "execution": {
     "iopub.execute_input": "2022-04-24T18:10:41.649983Z",
     "iopub.status.busy": "2022-04-24T18:10:41.649237Z",
     "iopub.status.idle": "2022-04-24T18:10:42.463326Z",
     "shell.execute_reply": "2022-04-24T18:10:42.463866Z",
     "shell.execute_reply.started": "2022-04-24T07:02:25.242773Z"
    },
    "papermill": {
     "duration": 0.961784,
     "end_time": "2022-04-24T18:10:42.464070",
     "exception": false,
     "start_time": "2022-04-24T18:10:41.502286",
     "status": "completed"
    },
    "tags": []
   },
   "outputs": [
    {
     "data": {
      "text/plain": [
       "0.2517361111111111"
      ]
     },
     "execution_count": 26,
     "metadata": {},
     "output_type": "execute_result"
    }
   ],
   "source": [
    "SVC_model.fit(X_train_4_columns, y_train)\n",
    "SVC_prediction = SVC_model.predict(X_test_4_columns)\n",
    "mean_squared_error(SVC_prediction, y_test)"
   ]
  },
  {
   "cell_type": "code",
   "execution_count": 27,
   "id": "afc0fb45",
   "metadata": {
    "execution": {
     "iopub.execute_input": "2022-04-24T18:10:42.750030Z",
     "iopub.status.busy": "2022-04-24T18:10:42.749313Z",
     "iopub.status.idle": "2022-04-24T18:10:45.407566Z",
     "shell.execute_reply": "2022-04-24T18:10:45.406863Z",
     "shell.execute_reply.started": "2022-04-24T07:02:26.372042Z"
    },
    "papermill": {
     "duration": 2.802787,
     "end_time": "2022-04-24T18:10:45.407717",
     "exception": false,
     "start_time": "2022-04-24T18:10:42.604930",
     "status": "completed"
    },
    "tags": []
   },
   "outputs": [
    {
     "name": "stdout",
     "output_type": "stream",
     "text": [
      "[0 1 1 ... 0 1 1]\n",
      "0.2517361111111111\n",
      "[0 1 0 ... 0 1 0]\n",
      "0.2517361111111111\n",
      "[0 1 1 ... 0 1 0]\n",
      "0.2526041666666667\n"
     ]
    }
   ],
   "source": [
    "kernels = ['linear', 'rbf', 'poly']\n",
    "for kernel in kernels:\n",
    "    svc = svm.SVC(kernel=kernel).fit(X_train_4_columns, y_train)\n",
    "    print(svc.predict(X_test_4_columns))\n",
    "    print(mean_squared_error(svc.predict(X_test_4_columns), y_test))"
   ]
  },
  {
   "cell_type": "markdown",
   "id": "8be4312e",
   "metadata": {
    "papermill": {
     "duration": 0.139025,
     "end_time": "2022-04-24T18:10:45.711251",
     "exception": false,
     "start_time": "2022-04-24T18:10:45.572226",
     "status": "completed"
    },
    "tags": []
   },
   "source": [
    "**Decision Tree Classifier**\n",
    "\n",
    "RMSE == 0,39 for X_train_4_columns\n",
    "\n",
    "RMSE == 0,49 for X_train_2_columns\n",
    "\n",
    "Аналогично, поскольку RMSE значительно больше не только KNN, но и SVC, они приведены только для примера"
   ]
  },
  {
   "cell_type": "code",
   "execution_count": 28,
   "id": "2aa4a97f",
   "metadata": {
    "execution": {
     "iopub.execute_input": "2022-04-24T18:10:45.989556Z",
     "iopub.status.busy": "2022-04-24T18:10:45.988737Z",
     "iopub.status.idle": "2022-04-24T18:10:46.032028Z",
     "shell.execute_reply": "2022-04-24T18:10:46.032666Z",
     "shell.execute_reply.started": "2022-04-24T07:02:44.383754Z"
    },
    "papermill": {
     "duration": 0.184768,
     "end_time": "2022-04-24T18:10:46.032933",
     "exception": false,
     "start_time": "2022-04-24T18:10:45.848165",
     "status": "completed"
    },
    "tags": []
   },
   "outputs": [
    {
     "data": {
      "text/plain": [
       "0.3394097222222222"
      ]
     },
     "execution_count": 28,
     "metadata": {},
     "output_type": "execute_result"
    }
   ],
   "source": [
    "clf = DecisionTreeClassifier()\n",
    "decision_tree_prediction = clf.fit(X_train_4_columns, y_train).predict(X_test_4_columns)\n",
    "mean_squared_error(decision_tree_prediction, y_test)"
   ]
  },
  {
   "cell_type": "markdown",
   "id": "aab734c1",
   "metadata": {
    "papermill": {
     "duration": 0.140595,
     "end_time": "2022-04-24T18:10:46.309629",
     "exception": false,
     "start_time": "2022-04-24T18:10:46.169034",
     "status": "completed"
    },
    "tags": []
   },
   "source": [
    "**Random Forest Classifier**\n",
    "\n",
    "2-dim vector: RMSE == 0,31 for X_train_4_columns, RMSE == 0,36 for X_train_2_columns"
   ]
  },
  {
   "cell_type": "code",
   "execution_count": 29,
   "id": "1d79f67b",
   "metadata": {
    "execution": {
     "iopub.execute_input": "2022-04-24T18:10:46.595777Z",
     "iopub.status.busy": "2022-04-24T18:10:46.594976Z",
     "iopub.status.idle": "2022-04-24T18:10:47.535567Z",
     "shell.execute_reply": "2022-04-24T18:10:47.536081Z",
     "shell.execute_reply.started": "2022-04-24T07:02:58.792744Z"
    },
    "papermill": {
     "duration": 1.088687,
     "end_time": "2022-04-24T18:10:47.536285",
     "exception": false,
     "start_time": "2022-04-24T18:10:46.447598",
     "status": "completed"
    },
    "tags": []
   },
   "outputs": [
    {
     "data": {
      "text/plain": [
       "0.2699652777777778"
      ]
     },
     "execution_count": 29,
     "metadata": {},
     "output_type": "execute_result"
    }
   ],
   "source": [
    "rfc = RandomForestClassifier()\n",
    "rfc_prediction = rfc.fit(X_train_4_columns, y_train).predict(X_test_4_columns)\n",
    "mean_squared_error(rfc_prediction, y_test)"
   ]
  },
  {
   "cell_type": "markdown",
   "id": "ff4a3e4a",
   "metadata": {
    "papermill": {
     "duration": 0.138719,
     "end_time": "2022-04-24T18:10:47.820262",
     "exception": false,
     "start_time": "2022-04-24T18:10:47.681543",
     "status": "completed"
    },
    "tags": []
   },
   "source": [
    "**Ada Boost Classifier**\n",
    "\n",
    "64-dimens vector, tse\n",
    "\n",
    "optimal n estimators is 7, optimal learning rate = 0.51 => RMSE == 0,264 for X_train_4_columns\n",
    "\n",
    "optimal n estimators is 30, optimal learning rate = 0.99 => RMSE == 0,61 for X_train_2_columns\n",
    "\n",
    "2-dim vector, n_estimators=9,learning_rate=0.47 => RMSE == 0,268 for X_train_4_columns\n",
    "\n",
    "6-dim vector, n_estimators=10,learning_rate=0.68 => RMSE == 0,268 for X_train_4_columns\n"
   ]
  },
  {
   "cell_type": "markdown",
   "id": "be562d79",
   "metadata": {
    "papermill": {
     "duration": 0.13419,
     "end_time": "2022-04-24T18:10:48.096636",
     "exception": false,
     "start_time": "2022-04-24T18:10:47.962446",
     "status": "completed"
    },
    "tags": []
   },
   "source": [
    "Оптимальные параметры находились перебором в ограниченных рамках"
   ]
  },
  {
   "cell_type": "code",
   "execution_count": 30,
   "id": "1dc8c1ac",
   "metadata": {
    "execution": {
     "iopub.execute_input": "2022-04-24T18:10:48.372550Z",
     "iopub.status.busy": "2022-04-24T18:10:48.371844Z",
     "iopub.status.idle": "2022-04-24T18:11:24.100278Z",
     "shell.execute_reply": "2022-04-24T18:11:24.099610Z",
     "shell.execute_reply.started": "2022-04-24T07:04:08.394716Z"
    },
    "papermill": {
     "duration": 35.867885,
     "end_time": "2022-04-24T18:11:24.100539",
     "exception": false,
     "start_time": "2022-04-24T18:10:48.232654",
     "status": "completed"
    },
    "tags": []
   },
   "outputs": [],
   "source": [
    "error_rate = []\n",
    "for i in range(1,100):\n",
    "    ab = AdaBoostClassifier(n_estimators=53, learning_rate=i/100)\n",
    "    ab.fit(X_train_4_columns,y_train)\n",
    "    pred_i = ab.predict(X_test_4_columns)\n",
    "    error_rate.append(np.mean(pred_i != y_test))"
   ]
  },
  {
   "cell_type": "code",
   "execution_count": 31,
   "id": "af1fb916",
   "metadata": {
    "execution": {
     "iopub.execute_input": "2022-04-24T18:11:24.399969Z",
     "iopub.status.busy": "2022-04-24T18:11:24.399191Z",
     "iopub.status.idle": "2022-04-24T18:11:24.647499Z",
     "shell.execute_reply": "2022-04-24T18:11:24.646835Z",
     "shell.execute_reply.started": "2022-04-24T07:04:41.386445Z"
    },
    "papermill": {
     "duration": 0.393297,
     "end_time": "2022-04-24T18:11:24.647651",
     "exception": false,
     "start_time": "2022-04-24T18:11:24.254354",
     "status": "completed"
    },
    "tags": []
   },
   "outputs": [
    {
     "name": "stdout",
     "output_type": "stream",
     "text": [
      "Minimum error:- 0.24739583333333334 at setting = 89\n"
     ]
    },
    {
     "data": {
      "image/png": "[encoded data removed]",
      "text/plain": [
       "<Figure size 720x432 with 1 Axes>"
      ]
     },
     "metadata": {
      "needs_background": "light"
     },
     "output_type": "display_data"
    }
   ],
   "source": [
    "plt.figure(figsize=(10,6))\n",
    "plt.plot(range(1,100),error_rate,color='blue', linestyle='dashed',marker='o',markerfacecolor='red', markersize=10)\n",
    "plt.title('Error Rate vs. Setting Value')\n",
    "plt.xlabel('Setting')\n",
    "plt.ylabel('Error Rate')\n",
    "req_k_value = error_rate.index(min(error_rate))+1\n",
    "print(\"Minimum error:-\",min(error_rate),\"at setting =\",req_k_value)"
   ]
  },
  {
   "cell_type": "markdown",
   "id": "afcb84b1",
   "metadata": {
    "papermill": {
     "duration": 0.145636,
     "end_time": "2022-04-24T18:11:24.939231",
     "exception": false,
     "start_time": "2022-04-24T18:11:24.793595",
     "status": "completed"
    },
    "tags": []
   },
   "source": [
    "**GDB**\n",
    "\n",
    "Здесь RMSE совпадает с Ada с точностью до второго знака, поэтому точные данные не приводятся"
   ]
  },
  {
   "cell_type": "code",
   "execution_count": 32,
   "id": "ef05ddf1",
   "metadata": {
    "execution": {
     "iopub.execute_input": "2022-04-24T18:11:25.227075Z",
     "iopub.status.busy": "2022-04-24T18:11:25.226223Z",
     "iopub.status.idle": "2022-04-24T18:11:29.764801Z",
     "shell.execute_reply": "2022-04-24T18:11:29.764067Z",
     "shell.execute_reply.started": "2022-04-24T07:14:39.471172Z"
    },
    "papermill": {
     "duration": 4.68517,
     "end_time": "2022-04-24T18:11:29.764994",
     "exception": false,
     "start_time": "2022-04-24T18:11:25.079824",
     "status": "completed"
    },
    "tags": []
   },
   "outputs": [],
   "source": [
    "error_rate = []\n",
    "for i in range(1,100):\n",
    "    gdb = GradientBoostingClassifier(n_estimators=10, learning_rate = i/100,max_depth = 1, random_state = 0)\n",
    "    gdb.fit(X_train_4_columns,y_train)\n",
    "    pred_i = gdb.predict(X_test_4_columns)\n",
    "    error_rate.append(np.mean(pred_i != y_test))"
   ]
  },
  {
   "cell_type": "code",
   "execution_count": 33,
   "id": "acf0fb31",
   "metadata": {
    "execution": {
     "iopub.execute_input": "2022-04-24T18:11:30.050944Z",
     "iopub.status.busy": "2022-04-24T18:11:30.050266Z",
     "iopub.status.idle": "2022-04-24T18:11:30.292134Z",
     "shell.execute_reply": "2022-04-24T18:11:30.291457Z",
     "shell.execute_reply.started": "2022-04-24T07:14:43.632606Z"
    },
    "papermill": {
     "duration": 0.385669,
     "end_time": "2022-04-24T18:11:30.292286",
     "exception": false,
     "start_time": "2022-04-24T18:11:29.906617",
     "status": "completed"
    },
    "tags": []
   },
   "outputs": [
    {
     "name": "stdout",
     "output_type": "stream",
     "text": [
      "Minimum error:- 0.2465277777777778 at setting = 46\n"
     ]
    },
    {
     "data": {
      "image/png": "[encoded data removed]",
      "text/plain": [
       "<Figure size 720x432 with 1 Axes>"
      ]
     },
     "metadata": {
      "needs_background": "light"
     },
     "output_type": "display_data"
    }
   ],
   "source": [
    "plt.figure(figsize=(10,6))\n",
    "plt.plot(range(1,100),error_rate,color='blue', linestyle='dashed',marker='o',markerfacecolor='red', markersize=10)\n",
    "plt.title('Error Rate vs. Setting Value')\n",
    "plt.xlabel('setting')\n",
    "plt.ylabel('Error Rate')\n",
    "req_k_value = error_rate.index(min(error_rate))+1\n",
    "print(\"Minimum error:-\",min(error_rate),\"at setting =\",req_k_value)"
   ]
  },
  {
   "cell_type": "markdown",
   "id": "5907800d",
   "metadata": {
    "papermill": {
     "duration": 0.141394,
     "end_time": "2022-04-24T18:11:30.575792",
     "exception": false,
     "start_time": "2022-04-24T18:11:30.434398",
     "status": "completed"
    },
    "tags": []
   },
   "source": [
    "При подобранных параметрах простые модели (KNN, например) не уступают более сложным моделям, параметры которых оптимизировать труднее. Поэтому при RMSE, отличающемся во втором-третьем знаке после запятой, имеет смысл предпочесть более простой и понятный метод "
   ]
  },
  {
   "cell_type": "markdown",
   "id": "3842a705",
   "metadata": {
    "papermill": {
     "duration": 0.139981,
     "end_time": "2022-04-24T18:11:30.860563",
     "exception": false,
     "start_time": "2022-04-24T18:11:30.720582",
     "status": "completed"
    },
    "tags": []
   },
   "source": [
    "На графике можно увидеть распределение точек, соответствующих истинным и фэйковым новостям \n",
    "\n",
    "Правда, стоит подставлять координаты двухмерного вектора, полученные либо сразу doc2vec, либо tsne"
   ]
  },
  {
   "cell_type": "code",
   "execution_count": 34,
   "id": "e3d5fd83",
   "metadata": {
    "execution": {
     "iopub.execute_input": "2022-04-24T18:11:31.173349Z",
     "iopub.status.busy": "2022-04-24T18:11:31.172565Z",
     "iopub.status.idle": "2022-04-24T18:11:31.544459Z",
     "shell.execute_reply": "2022-04-24T18:11:31.545015Z",
     "shell.execute_reply.started": "2022-04-24T07:07:26.965144Z"
    },
    "papermill": {
     "duration": 0.54229,
     "end_time": "2022-04-24T18:11:31.545222",
     "exception": false,
     "start_time": "2022-04-24T18:11:31.002932",
     "status": "completed"
    },
    "tags": []
   },
   "outputs": [
    {
     "data": {
      "text/plain": [
       "<matplotlib.colorbar.Colorbar at 0x7f17e2a21810>"
      ]
     },
     "execution_count": 34,
     "metadata": {},
     "output_type": "execute_result"
    },
    {
     "data": {
      "image/png": "[encoded data removed]",
      "text/plain": [
       "<Figure size 432x288 with 2 Axes>"
      ]
     },
     "metadata": {
      "needs_background": "light"
     },
     "output_type": "display_data"
    }
   ],
   "source": [
    "plt.scatter(X_train['1_2vec'], X_train['2_2vec'],\\\n",
    "            c=y_train, s = 0.3)\n",
    "plt.colorbar()"
   ]
  }
 ],
 "metadata": {
  "kernelspec": {
   "display_name": "Python 3",
   "language": "python",
   "name": "python3"
  },
  "language_info": {
   "codemirror_mode": {
    "name": "ipython",
    "version": 3
   },
   "file_extension": ".py",
   "mimetype": "text/x-python",
   "name": "python",
   "nbconvert_exporter": "python",
   "pygments_lexer": "ipython3",
   "version": "3.7.12"
  },
  "papermill": {
   "default_parameters": {},
   "duration": 1906.967361,
   "end_time": "2022-04-24T18:11:34.659536",
   "environment_variables": {},
   "exception": null,
   "input_path": "__notebook__.ipynb",
   "output_path": "__notebook__.ipynb",
   "parameters": {},
   "start_time": "2022-04-24T17:39:47.692175",
   "version": "2.3.3"
  }
 },
 "nbformat": 4,
 "nbformat_minor": 5
}
